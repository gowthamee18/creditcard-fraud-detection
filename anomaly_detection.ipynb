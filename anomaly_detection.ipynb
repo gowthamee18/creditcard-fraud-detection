{
 "cells": [
  {
   "cell_type": "code",
   "execution_count": null,
   "metadata": {
    "id": "BkEgvD4XU6dx"
   },
   "outputs": [],
   "source": [
    "import pandas as pd\n",
    "import numpy as np\n",
    "import matplotlib.pyplot as plt\n",
    "import seaborn as sns\n",
    "\n",
    "from sklearn.ensemble import IsolationForest\n",
    "from sklearn.preprocessing import StandardScaler\n",
    "from sklearn.metrics import confusion_matrix, classification_report\n",
    "\n",
    "# Pretty plots\n",
    "sns.set(style='whitegrid')"
   ]
  },
  {
   "cell_type": "code",
   "execution_count": null,
   "metadata": {
    "colab": {
     "base_uri": "https://localhost:8080/",
     "height": 256
    },
    "id": "g0BZ8meRVGh-",
    "outputId": "6b44da52-2ef7-4a8c-d5b1-f75079402006"
   },
   "outputs": [],
   "source": [
    "df = pd.read_csv('creditcard.csv')\n",
    "df.dropna(inplace=True)\n",
    "df.head()"
   ]
  },
  {
   "cell_type": "markdown",
   "metadata": {
    "id": "ESGu64DYXI25"
   },
   "source": [
    "### Exploratory Data Analysis (EDA)\n",
    "\n",
    "Before diving into modeling, we explore the dataset to understand its structure:\n",
    "\n",
    "- The dataset contains **284,807 transactions**, out of which only **492 are fraudulent**\n",
    "- This means **less than 0.2%** of transactions are fraud — a highly imbalanced dataset\n",
    "- Most features (`V1` to `V28`) are PCA components; `Amount` and `Time` are the only non-anonymized columns\n",
    "- We'll need to scale features and use an anomaly detection model due to this extreme imbalance"
   ]
  },
  {
   "cell_type": "code",
   "execution_count": null,
   "metadata": {
    "colab": {
     "base_uri": "https://localhost:8080/",
     "height": 1000
    },
    "id": "gdQun4HFWIEf",
    "outputId": "99a4e1d6-9bfa-43df-8574-c254a4311291"
   },
   "outputs": [],
   "source": [
    "# Get summary statistics\n",
    "print(df.describe())\n",
    "\n",
    "# Check the distribution of the target variable (fraud vs. non-fraud)\n",
    "print(df['Class'].value_counts())\n",
    "\n",
    "# Visualize the distribution of the target variable\n",
    "import matplotlib.pyplot as plt\n",
    "df['Class'].value_counts().plot(kind='bar')\n",
    "plt.title('Distribution of Fraud vs. Non-Fraud Transactions')\n",
    "plt.xlabel('Class (0 = Not Fraud, 1 = Fraud)')\n",
    "plt.ylabel('Count')\n",
    "plt.show()"
   ]
  },
  {
   "cell_type": "code",
   "execution_count": null,
   "metadata": {
    "colab": {
     "base_uri": "https://localhost:8080/"
    },
    "id": "z9yzuPJFVGk_",
    "outputId": "00011c27-79d8-4486-d4cc-af8aba7d8c0d"
   },
   "outputs": [],
   "source": [
    "print(\"Shape:\", df.shape)\n",
    "print(\"Missing values:\\n\", df.isnull().sum())\n",
    "print(\"\\nClass distribution:\\n\", df['Class'].value_counts())"
   ]
  },
  {
   "cell_type": "code",
   "execution_count": null,
   "metadata": {
    "colab": {
     "base_uri": "https://localhost:8080/",
     "height": 480
    },
    "id": "4JkFbHCDVGnJ",
    "outputId": "77442301-937e-4bc8-856c-abb62d914529"
   },
   "outputs": [],
   "source": [
    "# Visualize the imbalance\n",
    "sns.countplot(x='Class', data=df)\n",
    "plt.title(\"Fraud (1) vs Non-Fraud (0)\")\n",
    "plt.show()"
   ]
  },
  {
   "cell_type": "markdown",
   "metadata": {
    "id": "dWCU7GRja2tc"
   },
   "source": [
    "### Preprocessing\n",
    "\n",
    "To prepare the data for modeling:\n",
    "- We separate the features from the target variable (`Class`)\n",
    "- We scale the features using StandardScaler to normalize the range of values\n",
    "- This ensures the Isolation Forest can fairly evaluate each feature without being skewed by value magnitude"
   ]
  },
  {
   "cell_type": "code",
   "execution_count": null,
   "metadata": {
    "id": "mD85lMGhVGri"
   },
   "outputs": [],
   "source": [
    "# Separate features and target\n",
    "X = df.drop('Class', axis=1)\n",
    "y = df['Class']\n",
    "\n",
    "# Scale features\n",
    "scaler = StandardScaler()\n",
    "X_scaled = scaler.fit_transform(X)"
   ]
  },
  {
   "cell_type": "markdown",
   "metadata": {
    "id": "ImmMbij7YR7s"
   },
   "source": [
    "### Modeling with Isolation Forest\n",
    "\n",
    "We apply the Isolation Forest algorithm — an unsupervised model that detects outliers by isolating points that behave differently. It's ideal for fraud detection because it doesn't require labeled data to identify rare cases."
   ]
  },
  {
   "cell_type": "code",
   "execution_count": null,
   "metadata": {
    "id": "_4xfDUP-VGvu"
   },
   "outputs": [],
   "source": [
    "# Set contamination as fraud rate\n",
    "fraud_rate = y.mean()\n",
    "\n",
    "iso_forest = IsolationForest(contamination=fraud_rate, random_state=42)\n",
    "iso_forest.fit(X_scaled)\n",
    "\n",
    "# Predict anomalies\n",
    "y_pred = iso_forest.predict(X_scaled)\n",
    "\n",
    "# Convert -1 to 1 (fraud), 1 to 0 (normal)\n",
    "y_pred = [1 if val == -1 else 0 for val in y_pred]"
   ]
  },
  {
   "cell_type": "markdown",
   "metadata": {
    "id": "8-fntw-RarH7"
   },
   "source": [
    "### Evaluation\n",
    "\n",
    "We compare the predicted anomalies with the true fraud labels using:\n",
    "- Confusion Matrix\n",
    "- Classification Report (Precision, Recall, F1-score)\n",
    "\n",
    "These metrics show how well the model identified actual fraud cases.\n"
   ]
  },
  {
   "cell_type": "code",
   "execution_count": null,
   "metadata": {
    "colab": {
     "base_uri": "https://localhost:8080/"
    },
    "id": "h7vCjl3wVGyC",
    "outputId": "c0adf6f9-9965-4173-ae17-691897449888"
   },
   "outputs": [],
   "source": [
    "print(\"Confusion Matrix:\\n\", confusion_matrix(y, y_pred))\n",
    "print(\"\\nClassification Report:\\n\", classification_report(y, y_pred, digits=4))"
   ]
  },
  {
   "cell_type": "code",
   "execution_count": null,
   "metadata": {
    "colab": {
     "base_uri": "https://localhost:8080/",
     "height": 480
    },
    "id": "wyypf5bqX09x",
    "outputId": "8c57f4df-a955-4bbc-8141-f21ccea78f70"
   },
   "outputs": [],
   "source": [
    "import seaborn as sns\n",
    "cm = confusion_matrix(y, y_pred)\n",
    "sns.heatmap(cm, annot=True, fmt='d', cmap='Purples',\n",
    "            xticklabels=['Not Fraud', 'Fraud'],\n",
    "            yticklabels=['Not Fraud', 'Fraud'])\n",
    "plt.xlabel('Predicted')\n",
    "plt.ylabel('Actual')\n",
    "plt.title('Confusion Matrix')\n",
    "plt.show()"
   ]
  },
  {
   "cell_type": "markdown",
   "metadata": {
    "id": "dUNxwHLXZ0nI"
   },
   "source": [
    "### Conclusion\n",
    "\n",
    "- Isolation Forest successfully detected anomalies in a highly imbalanced credit card transaction dataset.\n",
    "- Despite being unsupervised, the model caught a meaningful portion of fraud cases.\n",
    "- Future work can include trying other models like Autoencoders, One-Class SVM, or combining models for better results."
   ]
  }
 ],
 "metadata": {
  "colab": {
   "provenance": []
  },
  "kernelspec": {
   "display_name": "Python 3",
   "name": "python3"
  },
  "language_info": {
   "name": "python"
  }
 },
 "nbformat": 4,
 "nbformat_minor": 0
}
